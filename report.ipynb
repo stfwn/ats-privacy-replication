{
 "cells": [
  {
   "cell_type": "code",
   "execution_count": null,
   "metadata": {},
   "outputs": [],
   "source": [
    "import sys\n",
    "sys.path.insert(0, \"./original/\")\n",
    "\n",
    "import json\n",
    "import matplotlib.pyplot as plt\n",
    "import torchvision\n",
    "import torchvision.transforms as transforms\n",
    "import numpy as np\n",
    "\n",
    "from argparse import Namespace\n",
    "from pathlib import Path\n",
    "\n",
    "from original.benchmark.comm import preprocess"
   ]
  },
  {
   "cell_type": "markdown",
   "metadata": {},
   "source": [
    "# Figure 1"
   ]
  },
  {
   "cell_type": "code",
   "execution_count": null,
   "metadata": {},
   "outputs": [],
   "source": [
    "%%capture\n",
    "policy_results_d = Path(\"logs/cifar100-ResNet20-4/augmentations\")\n",
    "\n",
    "# Load validation dataset for image visualization\n",
    "validset = torchvision.datasets.CIFAR100(root=\"data/\", train=False, download=True, transform=transforms.ToTensor())"
   ]
  },
  {
   "cell_type": "code",
   "execution_count": null,
   "metadata": {},
   "outputs": [],
   "source": [
    "spri = []\n",
    "all_policies = [list(map(int, p.stem.split(\"-\"))) for p in policy_results_d.glob(\"*[0-9].json\")]\n",
    "for policy in all_policies:\n",
    "    policy_results_f = policy_results_d / f\"{'-'.join(map(str, policy))}.json\"\n",
    "    with open(policy_results_f) as f:\n",
    "        policy_results = json.load(f)\n",
    "    spri.append(policy_results[\"S_pri\"])\n",
    "num_images = len(spri[0])\n",
    "spri = np.mean(spri, axis=1)\n",
    "the_best_policy = all_policies[spri.argmin()]"
   ]
  },
  {
   "cell_type": "code",
   "execution_count": null,
   "metadata": {
    "scrolled": false
   },
   "outputs": [],
   "source": [
    "image_ids = list(range(num_images))\n",
    "policies = [the_best_policy]\n",
    "# policies = all_policies\n",
    "\n",
    "grad_sim_t = []\n",
    "grad_sim_not = []\n",
    "\n",
    "no_policy_results_f = policy_results_d / \".json\"\n",
    "with open(no_policy_results_f) as f:\n",
    "    no_policy_results = json.load(f)\n",
    "grad_sim_not = [no_policy_results[\"grad_sim\"][idx] for idx in image_ids]\n",
    "\n",
    "for policy in policies:\n",
    "    policy_results_f = policy_results_d / f\"{'-'.join(map(str, policy))}.json\"\n",
    "    with open(policy_results_f) as f:\n",
    "        policy_results = json.load(f)\n",
    "    grad_sim_t.extend([policy_results[\"grad_sim\"][idx] for idx in image_ids])\n",
    "\n",
    "grad_sim_t = np.mean(grad_sim_t, axis=0)\n",
    "grad_sim_not = np.mean(grad_sim_not, axis=0)\n",
    "\n",
    "if len(image_ids) == 1:\n",
    "    sample_list = [200 + i * 5 for i in range(100)]\n",
    "    img = validset[sample_list[image_ids[0]]][0].numpy().transpose(1, 2, 0)\n",
    "    plt.imshow(img)\n",
    "    plt.show()\n",
    "\n",
    "def plot_figure1(grad_sim_t, grad_sim_not, bins=20):\n",
    "    plt.plot(grad_sim_t, label=\"w/. privacy-aware transform\")\n",
    "    plt.plot(grad_sim_not, \"-.\", label=\"w/o any transform\")\n",
    "\n",
    "    plt.xlabel('i')\n",
    "    plt.ylabel('GradSim')\n",
    "    ticks_x = list(range(0, bins+1, 5))\n",
    "    labels_x = [f\"{i}/{bins}\" for i in ticks_x]\n",
    "    plt.xticks(ticks_x, labels_x)\n",
    "    plt.xlim(ticks_x[0], ticks_x[-1])\n",
    "    plt.ylim(0.00, 1.00)\n",
    "    plt.tight_layout()\n",
    "    plt.legend()\n",
    "    plt.show()\n",
    "\n",
    "plot_figure1(grad_sim_t, grad_sim_not)"
   ]
  },
  {
   "cell_type": "markdown",
   "metadata": {},
   "source": [
    "# Figure 2"
   ]
  },
  {
   "cell_type": "markdown",
   "metadata": {},
   "source": [
    "# Figure 3"
   ]
  },
  {
   "cell_type": "markdown",
   "metadata": {},
   "source": [
    "# Figure 4"
   ]
  },
  {
   "cell_type": "markdown",
   "metadata": {},
   "source": [
    "# Figure 5"
   ]
  },
  {
   "cell_type": "code",
   "execution_count": null,
   "metadata": {},
   "outputs": [],
   "source": [
    "single_policies_idx = [i for i, p in enumerate(all_policies) if len(p) == 1]\n",
    "transformation_spri = [[] for _ in range(len(single_policies_idx))]\n",
    "for i in single_policies_idx:\n",
    "    policy = all_policies[i]\n",
    "    policy_spri = spri[i]\n",
    "    for t in policy:\n",
    "        transformation_spri[t].append(policy_spri)\n",
    "transformation_spri = [np.mean(t) for t in transformation_spri]\n",
    "\n",
    "def plot_figur5(transformation_spri):\n",
    "    num_trans = len(transformation_spri)\n",
    "    transformation_spri = np.array(transformation_spri)\n",
    "    best_5 = transformation_spri.argsort()[:5]\n",
    "    colors = [(\"r\" if i in best_5 else \"gray\") for i in range(num_trans)]\n",
    "    plt.bar(range(num_trans), transformation_spri, color=colors)\n",
    "    plt.xlabel('Transformation index')\n",
    "    plt.ylabel('S_pri')\n",
    "    plt.ylim(0.25, 0.45)\n",
    "    plt.yticks(np.linspace(0.25, 0.45, 5))\n",
    "    plt.show()\n",
    "    print(\"5 best transformations:\", best_5)\n",
    "\n",
    "plot_figur5(transformation_spri)"
   ]
  },
  {
   "cell_type": "markdown",
   "metadata": {},
   "source": [
    "# Figure 6"
   ]
  },
  {
   "cell_type": "markdown",
   "metadata": {},
   "source": [
    "# Table 1"
   ]
  },
  {
   "cell_type": "markdown",
   "metadata": {},
   "source": [
    "# Table 2"
   ]
  },
  {
   "cell_type": "markdown",
   "metadata": {},
   "source": [
    "# Table 3"
   ]
  },
  {
   "cell_type": "markdown",
   "metadata": {},
   "source": [
    "# Table 4"
   ]
  }
 ],
 "metadata": {
  "kernelspec": {
   "display_name": "Python [conda env:uva-fact]",
   "language": "python",
   "name": "conda-env-uva-fact-py"
  },
  "language_info": {
   "codemirror_mode": {
    "name": "ipython",
    "version": 3
   },
   "file_extension": ".py",
   "mimetype": "text/x-python",
   "name": "python",
   "nbconvert_exporter": "python",
   "pygments_lexer": "ipython3",
   "version": "3.8.1"
  }
 },
 "nbformat": 4,
 "nbformat_minor": 4
}
